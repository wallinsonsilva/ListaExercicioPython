{
  "nbformat": 4,
  "nbformat_minor": 0,
  "metadata": {
    "colab": {
      "name": "ListaExercício02.ipynb",
      "provenance": [],
      "authorship_tag": "ABX9TyP1VHXje2KiUtOs9nCS/S3M",
      "include_colab_link": true
    },
    "kernelspec": {
      "name": "python3",
      "display_name": "Python 3"
    }
  },
  "cells": [
    {
      "cell_type": "markdown",
      "metadata": {
        "id": "view-in-github",
        "colab_type": "text"
      },
      "source": [
        "<a href=\"https://colab.research.google.com/github/wallinsonsilva/ListaExercicioPython/blob/master/ListaExerc%C3%ADcio02.ipynb\" target=\"_parent\"><img src=\"https://colab.research.google.com/assets/colab-badge.svg\" alt=\"Open In Colab\"/></a>"
      ]
    },
    {
      "cell_type": "markdown",
      "metadata": {
        "id": "7Vg9pkhLV6jF",
        "colab_type": "text"
      },
      "source": [
        "## Questão 2\n",
        "Suponha que você já possui uma estrutura Pilha implementada corretamente. Reuse esta estrutura Pilha para implementar uma estrutura Fila. Em outras palavras, implemente uma estrutura Fila usando internamente uma ou mais estruturas Pilha. Lembre-se que as operações da Fila devem obedecer a estratégia FIFO.\n",
        "\n",
        "**R.:** *Método main no final contendo um exemplo retirado do slide referente a aula onde foi ministrada a estrutura de dados referente ao conteudo abordado no algorítmo.*"
      ]
    },
    {
      "cell_type": "code",
      "metadata": {
        "id": "NpNQMbKIU9Zs",
        "colab_type": "code",
        "colab": {
          "base_uri": "https://localhost:8080/",
          "height": 182
        },
        "outputId": "f95830d4-173e-4ebf-8ce7-67dfc19a4a4b"
      },
      "source": [
        "from lista_exercicio_2.Q01a_pilha import Pilha\n",
        "\n",
        "class PseudoFila:\n",
        "\n",
        "    def __init__(self):\n",
        "        self.__lista = Pilha()\n",
        "\n",
        "    def queue(self,elemento):\n",
        "        self.__lista.push(elemento)\n",
        "\n",
        "    def dequeue(self):\n",
        "        elemento = self.__lista.pop()\n",
        "        if(self.__lista.isEmpty()):\n",
        "            return elemento\n",
        "        else:\n",
        "            temp = self.dequeue()\n",
        "            self.__lista.push(elemento)\n",
        "            return temp\n",
        "\n",
        "    def peek(self):\n",
        "        elemento = self.__lista.pop()\n",
        "        if(self.__lista.isEmpty()):\n",
        "            self.__lista.push(elemento)\n",
        "            return elemento\n",
        "        else:\n",
        "            temp = self.peek()\n",
        "            self.__lista.push(elemento)\n",
        "            return temp\n",
        "\n",
        "    def back(self):\n",
        "        return self.__lista.top()\n",
        "\n",
        "    def copyFila(self):\n",
        "        return self.__lista.copyPilha()\n",
        "\n",
        "    def isEmpty(self):\n",
        "        return self.size() == 0\n",
        "\n",
        "    def size(self):\n",
        "        return self.__lista.size()\n",
        "\n",
        "    def __str__(self):\n",
        "        return self.__lista.__str__()\n",
        "\n",
        "\n",
        "#Função para teste\n",
        "def main():\n",
        "    filaQ2 = PseudoFila()\n",
        "    filaQ2.queue(10)\n",
        "    filaQ2.queue(1)\n",
        "    filaQ2.queue(11)\n",
        "    filaQ2.queue(7)\n",
        "    filaQ2.queue(5)\n",
        "    print(filaQ2)\n",
        "    print(\"Dequeue: {0}\".format(filaQ2.dequeue()))\n",
        "    print(\"Dequeue: {0}\".format(filaQ2.dequeue()))\n",
        "    filaQ2.queue(4)\n",
        "    print(filaQ2)\n",
        "    print(\"Dequeue: {0}\".format(filaQ2.dequeue()))\n",
        "    print(\"Dequeue: {0}\".format(filaQ2.dequeue()))\n",
        "    print(\"Dequeue: {0}\".format(filaQ2.dequeue()))\n",
        "    print(\"Dequeue: {0}\".format(filaQ2.dequeue()))\n",
        "    print(filaQ2)\n",
        "\n",
        "if __name__ == '__main__': # chamada da funcao principal\n",
        "    main()"
      ],
      "execution_count": 2,
      "outputs": [
        {
          "output_type": "stream",
          "text": [
            "[8, 6, 4, 2, 10, 1, 11, 7, 5]\n",
            "Dequeue: 8\n",
            "Dequeue: 6\n",
            "[4, 2, 10, 1, 11, 7, 5, 4]\n",
            "Dequeue: 4\n",
            "Dequeue: 2\n",
            "Dequeue: 10\n",
            "Dequeue: 1\n",
            "[11, 7, 5, 4]\n"
          ],
          "name": "stdout"
        }
      ]
    },
    {
      "cell_type": "markdown",
      "metadata": {
        "id": "EO14BDYRWcny",
        "colab_type": "text"
      },
      "source": [
        "## Questão 3\n",
        "Palíndromo é a frase ou palavra que mantém o mesmo sentido quando lida de trás pra frente. São exemplos de palíndromo: \"arara\", \"osso\", \"reler\", \"somos\", e “amor à roma”. Podemos também considerar palíndromos algumas combinações de palavras em que desprezamos pontuações, acentos e espaços em branco, como por exemplo: “ralo do dólar”, “até o poeta”, “após a sopa”, etc. Neste contexto:\n",
        "\n",
        "**a)** Use uma Pilha para projetar uma função que recebe uma string como entrada e verifica se ela é ou não um palíndromo."
      ]
    },
    {
      "cell_type": "code",
      "metadata": {
        "id": "Ha_kABs2WdYT",
        "colab_type": "code",
        "colab": {
          "base_uri": "https://localhost:8080/",
          "height": 164
        },
        "outputId": "6ac3752f-2ce4-42a2-a2d5-f337d2d2adb7"
      },
      "source": [
        "from lista_exercicio_2.Q01a_pilha import Pilha\n",
        "import unicodedata\n",
        "\n",
        "def __removerEspacoENormalizar(palavra):\n",
        "    palavra = palavra.replace(\" \", \"\")\n",
        "    palavra = unicodedata.normalize('NFKD', palavra)\n",
        "    palavra = palavra.encode('ASCII', 'ignore')\n",
        "    palavra = palavra.lower()\n",
        "    return  palavra\n",
        "\n",
        "def isPalindromo(palavra):\n",
        "    palavra = __removerEspacoENormalizar(palavra)\n",
        "    pilha = Pilha()\n",
        "\n",
        "    for letra in palavra:\n",
        "        pilha.push(letra)\n",
        "\n",
        "    isPalindromo = True\n",
        "\n",
        "    for letra in palavra:\n",
        "        if(letra != pilha.pop()):\n",
        "            isPalindromo = False\n",
        "            break\n",
        "\n",
        "    return isPalindromo\n",
        "\n",
        "print(isPalindromo(\"após a sopa\"))\n",
        "print(isPalindromo(\"teste\"))\n",
        "print(isPalindromo(\"arara\"))\n",
        "print(isPalindromo(\"ralo do dólar\"))\n",
        "print(isPalindromo(\"oSsO\"))\n",
        "print(isPalindromo(\"osso\"))\n",
        "print(isPalindromo(\"palavra\"))\n",
        "print(isPalindromo(\"até o poeta\"))"
      ],
      "execution_count": 2,
      "outputs": [
        {
          "output_type": "stream",
          "text": [
            "True\n",
            "False\n",
            "True\n",
            "True\n",
            "True\n",
            "True\n",
            "False\n",
            "True\n"
          ],
          "name": "stdout"
        }
      ]
    },
    {
      "cell_type": "markdown",
      "metadata": {
        "id": "wF1p3ApiWz2u",
        "colab_type": "text"
      },
      "source": [
        "## Questão 3:\n",
        "Palíndromo é a frase ou palavra que mantém o mesmo sentido quando lida de trás pra frente. São exemplos de palíndromo: \"arara\", \"osso\", \"reler\", \"somos\", e “amor à roma”. Podemos também considerar palíndromos algumas combinações de palavras em que desprezamos pontuações, acentos e espaços em branco, como por exemplo: “ralo do dólar”, “até o poeta”, “após a sopa”, etc. Neste contexto:\n",
        "\n",
        "**b)** Use um Deque para projetar uma função que recebe uma string como entrada e verifica se ela é ou não um palíndromo.\n"
      ]
    },
    {
      "cell_type": "code",
      "metadata": {
        "id": "9qOKrjTTW0iT",
        "colab_type": "code",
        "colab": {
          "base_uri": "https://localhost:8080/",
          "height": 164
        },
        "outputId": "16cf426b-86f3-4370-a571-4f5620331be3"
      },
      "source": [
        "from lista_exercicio_2.Q01c_deque import Deque\n",
        "import unicodedata\n",
        "\n",
        "def __removerEspacoENormalizar(palavra):\n",
        "    palavra = palavra.replace(\" \", \"\")\n",
        "    palavra = unicodedata.normalize('NFKD', palavra)\n",
        "    palavra = palavra.encode('ASCII', 'ignore')\n",
        "    palavra = palavra.lower()\n",
        "    return  palavra\n",
        "\n",
        "def isPalindromo(palavra):\n",
        "    palavra = __removerEspacoENormalizar(palavra)\n",
        "    deque = Deque()\n",
        "\n",
        "    for letra in palavra:\n",
        "        deque.pushFront(letra)\n",
        "\n",
        "    isPalindromo = True\n",
        "    cont = 0\n",
        "    tamanho = int(len(palavra)/2)\n",
        "    while(cont<tamanho):\n",
        "        if(deque.popFront() != deque.popBack()):\n",
        "            isPalindromo = False\n",
        "        cont += 1\n",
        "\n",
        "    return isPalindromo\n",
        "\n",
        "\n",
        "print(isPalindromo(\"após a sopa\"))\n",
        "print(isPalindromo(\"teste\"))\n",
        "print(isPalindromo(\"arara\"))\n",
        "print(isPalindromo(\"ralo do dólar\"))\n",
        "print(isPalindromo(\"oSsO\"))\n",
        "print(isPalindromo(\"osso\"))\n",
        "print(isPalindromo(\"palavra\"))\n",
        "print(isPalindromo(\"até o poeta\"))"
      ],
      "execution_count": 3,
      "outputs": [
        {
          "output_type": "stream",
          "text": [
            "True\n",
            "False\n",
            "True\n",
            "True\n",
            "True\n",
            "True\n",
            "False\n",
            "True\n"
          ],
          "name": "stdout"
        }
      ]
    },
    {
      "cell_type": "markdown",
      "metadata": {
        "id": "-5Ro2wmPXOdf",
        "colab_type": "text"
      },
      "source": [
        "## Questão 4\n",
        "Criei um MÉTODO chamado inverter para alterar a ordem dos elementos da fila. do método, utilize uma Pilha para realizar essa mudança. Utilize apenas os métodos push(), pop() e pilhaEstaVazia() da Pilha e os métodos enqueue(), dequeue() e filaEstaVazia() da própria Fila. NÃO é um método para imprimir os elementos. É um método para, efetivamente, inverter a ordem dos elementos na fila."
      ]
    },
    {
      "cell_type": "code",
      "metadata": {
        "id": "KNzf99OsXPN6",
        "colab_type": "code",
        "colab": {
          "base_uri": "https://localhost:8080/",
          "height": 54
        },
        "outputId": "e636a5b2-9283-4df8-ba77-0d4fe49c078f"
      },
      "source": [
        "from lista_exercicio_2.Q01a_pilha import Pilha\n",
        "from lista_exercicio_2.Q01b_fila import Fila\n",
        "\n",
        "def inverter(lista:Fila):\n",
        "    pilha = Pilha()\n",
        "    while not lista.isEmpty(): pilha.push(lista.dequeue())\n",
        "    while not pilha.isEmpty(): lista.queue(pilha.pop())\n",
        "    return lista\n",
        "\n",
        "\n",
        "listaOriginal = [100,200,300,400,500,600]\n",
        "filaOriginal = Fila(listaOriginal)\n",
        "print(\"Fila original [{0}]\".format(filaOriginal))\n",
        "filaInvertida = inverter(filaOriginal)\n",
        "print(\"Fila invertida [{0}]\".format(filaInvertida))\n"
      ],
      "execution_count": 1,
      "outputs": [
        {
          "output_type": "stream",
          "text": [
            "Fila original [[100, 200, 300, 400, 500, 600]]\n",
            "Fila invertida [[600, 500, 400, 300, 200, 100]]\n"
          ],
          "name": "stdout"
        }
      ]
    },
    {
      "cell_type": "markdown",
      "metadata": {
        "id": "_G3Kb6oqXaoO",
        "colab_type": "text"
      },
      "source": [
        "## Questão 5\n",
        "Crie um MÉTODO que retira todos os elementos ímpares da fila, mantendo a ordem original dos elementos pares da fila. Os elementos pares devem ser removidos temporariamente para uma pilha e depois retornados para a fila assim que os elementos ímpares forem removidos.\n"
      ]
    },
    {
      "cell_type": "code",
      "metadata": {
        "id": "ZzKEe_CAXd6g",
        "colab_type": "code",
        "colab": {
          "base_uri": "https://localhost:8080/",
          "height": 54
        },
        "outputId": "9fc02fab-9542-43e8-f771-27d301193e3b"
      },
      "source": [
        "from lista_exercicio_2.Q01b_fila import Fila\n",
        "from lista_exercicio_2.Q01a_pilha import Pilha\n",
        "\n",
        "ehPar = lambda x : True if x % 2 == 0 else False\n",
        "\n",
        "def __coloca_pares_na_pilha(lista:Fila):\n",
        "    pilha = Pilha()\n",
        "    elemento = lista.dequeue()\n",
        "    if lista.isEmpty():\n",
        "        if ehPar(elemento): pilha.push(elemento)\n",
        "        return pilha\n",
        "    temp = __coloca_pares_na_pilha(lista)\n",
        "    if ehPar(elemento): temp.push(elemento)\n",
        "    return temp\n",
        "\n",
        "def remove_elementos_impares(lista:Fila):\n",
        "    pilha = __coloca_pares_na_pilha(lista)\n",
        "    while not pilha.isEmpty(): lista.queue(pilha.pop())\n",
        "    return lista\n",
        "\n",
        "\n",
        "fila = Fila([1,2,3,4,5,6,7,8,9])\n",
        "print(\"Lista Original: \",fila)\n",
        "fila = remove_elementos_impares(fila)\n",
        "print(\"Lista com números impares removidos: \",fila)"
      ],
      "execution_count": 1,
      "outputs": [
        {
          "output_type": "stream",
          "text": [
            "Lista Original:  [1, 2, 3, 4, 5, 6, 7, 8, 9]\n",
            "Lista com números impares removidos:  [2, 4, 6, 8]\n"
          ],
          "name": "stdout"
        }
      ]
    }
  ]
}