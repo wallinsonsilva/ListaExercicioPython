{
  "nbformat": 4,
  "nbformat_minor": 0,
  "metadata": {
    "colab": {
      "name": "ListaExercício02_Questao_02.ipynb",
      "provenance": [],
      "toc_visible": true,
      "authorship_tag": "ABX9TyMN2SVc8XGbJtsJoSFYObuH",
      "include_colab_link": true
    },
    "kernelspec": {
      "name": "python3",
      "display_name": "Python 3"
    }
  },
  "cells": [
    {
      "cell_type": "markdown",
      "metadata": {
        "id": "view-in-github",
        "colab_type": "text"
      },
      "source": [
        "<a href=\"https://colab.research.google.com/github/wallinsonsilva/ListaExercicioPython/blob/master/ListaExerc%C3%ADcio02_Questao_02.ipynb\" target=\"_parent\"><img src=\"https://colab.research.google.com/assets/colab-badge.svg\" alt=\"Open In Colab\"/></a>"
      ]
    },
    {
      "cell_type": "markdown",
      "metadata": {
        "id": "7Vg9pkhLV6jF",
        "colab_type": "text"
      },
      "source": [
        "## Questão 2\n",
        "Suponha que você já possui uma estrutura Pilha implementada corretamente. Reuse esta estrutura Pilha para implementar uma estrutura Fila. Em outras palavras, implemente uma estrutura Fila usando internamente uma ou mais estruturas Pilha. Lembre-se que as operações da Fila devem obedecer a estratégia FIFO.\n",
        "\n",
        "**R.:** *Método main no final contendo um exemplo retirado do slide referente a aula onde foi ministrada a estrutura de dados referente ao conteudo abordado no algorítmo.*"
      ]
    },
    {
      "cell_type": "code",
      "metadata": {
        "id": "NpNQMbKIU9Zs",
        "colab_type": "code",
        "colab": {
          "base_uri": "https://localhost:8080/",
          "height": 182
        },
        "outputId": "f95830d4-173e-4ebf-8ce7-67dfc19a4a4b"
      },
      "source": [
        "from lista_exercicio_2.Q01a_pilha import Pilha\n",
        "\n",
        "class PseudoFila:\n",
        "\n",
        "    def __init__(self):\n",
        "        self.__lista = Pilha()\n",
        "\n",
        "    def queue(self,elemento):\n",
        "        self.__lista.push(elemento)\n",
        "\n",
        "    def dequeue(self):\n",
        "        elemento = self.__lista.pop()\n",
        "        if(self.__lista.isEmpty()):\n",
        "            return elemento\n",
        "        else:\n",
        "            temp = self.dequeue()\n",
        "            self.__lista.push(elemento)\n",
        "            return temp\n",
        "\n",
        "    def peek(self):\n",
        "        elemento = self.__lista.pop()\n",
        "        if(self.__lista.isEmpty()):\n",
        "            self.__lista.push(elemento)\n",
        "            return elemento\n",
        "        else:\n",
        "            temp = self.peek()\n",
        "            self.__lista.push(elemento)\n",
        "            return temp\n",
        "\n",
        "    def back(self):\n",
        "        return self.__lista.top()\n",
        "\n",
        "    def copyFila(self):\n",
        "        return self.__lista.copyPilha()\n",
        "\n",
        "    def isEmpty(self):\n",
        "        return self.size() == 0\n",
        "\n",
        "    def size(self):\n",
        "        return self.__lista.size()\n",
        "\n",
        "    def __str__(self):\n",
        "        return self.__lista.__str__()\n",
        "\n",
        "\n",
        "#Função para teste\n",
        "def main():\n",
        "    filaQ2 = PseudoFila()\n",
        "    filaQ2.queue(10)\n",
        "    filaQ2.queue(1)\n",
        "    filaQ2.queue(11)\n",
        "    filaQ2.queue(7)\n",
        "    filaQ2.queue(5)\n",
        "    print(filaQ2)\n",
        "    print(\"Dequeue: {0}\".format(filaQ2.dequeue()))\n",
        "    print(\"Dequeue: {0}\".format(filaQ2.dequeue()))\n",
        "    filaQ2.queue(4)\n",
        "    print(filaQ2)\n",
        "    print(\"Dequeue: {0}\".format(filaQ2.dequeue()))\n",
        "    print(\"Dequeue: {0}\".format(filaQ2.dequeue()))\n",
        "    print(\"Dequeue: {0}\".format(filaQ2.dequeue()))\n",
        "    print(\"Dequeue: {0}\".format(filaQ2.dequeue()))\n",
        "    print(filaQ2)\n",
        "\n",
        "if __name__ == '__main__': # chamada da funcao principal\n",
        "    main()"
      ],
      "execution_count": null,
      "outputs": [
        {
          "output_type": "stream",
          "text": [
            "[8, 6, 4, 2, 10, 1, 11, 7, 5]\n",
            "Dequeue: 8\n",
            "Dequeue: 6\n",
            "[4, 2, 10, 1, 11, 7, 5, 4]\n",
            "Dequeue: 4\n",
            "Dequeue: 2\n",
            "Dequeue: 10\n",
            "Dequeue: 1\n",
            "[11, 7, 5, 4]\n"
          ],
          "name": "stdout"
        }
      ]
    }
  ]
}