{
  "nbformat": 4,
  "nbformat_minor": 0,
  "metadata": {
    "colab": {
      "name": "ListaExercício02_Questao_04.ipynb",
      "provenance": [],
      "toc_visible": true,
      "authorship_tag": "ABX9TyO4AnGE+hT7Fhd6IA2CpDw4",
      "include_colab_link": true
    },
    "kernelspec": {
      "name": "python3",
      "display_name": "Python 3"
    }
  },
  "cells": [
    {
      "cell_type": "markdown",
      "metadata": {
        "id": "view-in-github",
        "colab_type": "text"
      },
      "source": [
        "<a href=\"https://colab.research.google.com/github/wallinsonsilva/ListaExercicioPython/blob/master/ListaExerc%C3%ADcio02_Questao_04.ipynb\" target=\"_parent\"><img src=\"https://colab.research.google.com/assets/colab-badge.svg\" alt=\"Open In Colab\"/></a>"
      ]
    },
    {
      "cell_type": "markdown",
      "metadata": {
        "id": "UF5btkCidVme",
        "colab_type": "text"
      },
      "source": [
        "## Questão 4\n",
        "Criei um MÉTODO chamado inverter para alterar a ordem dos elementos da fila. do método, utilize uma Pilha para realizar essa mudança. Utilize apenas os métodos push(), pop() e pilhaEstaVazia() da Pilha e os métodos enqueue(), dequeue() e filaEstaVazia() da própria Fila. NÃO é um método para imprimir os elementos. É um método para, efetivamente, inverter a ordem dos elementos na fila."
      ]
    },
    {
      "cell_type": "code",
      "metadata": {
        "id": "O9wbV1zldaoH",
        "colab_type": "code",
        "colab": {
          "base_uri": "https://localhost:8080/",
          "height": 54
        },
        "outputId": "83e212b0-88ae-4334-96b0-c3e13fc35df8"
      },
      "source": [
        "from lista_exercicio_2.Q01a_pilha import Pilha\n",
        "from lista_exercicio_2.Q01b_fila import Fila\n",
        "\n",
        "def inverter(lista:Fila):\n",
        "    pilha = Pilha()\n",
        "    while not lista.isEmpty(): pilha.push(lista.dequeue())\n",
        "    while not pilha.isEmpty(): lista.queue(pilha.pop())\n",
        "    return lista\n",
        "\n",
        "\n",
        "listaOriginal = [100,200,300,400,500,600]\n",
        "filaOriginal = Fila(listaOriginal)\n",
        "print(\"Fila original [{0}]\".format(filaOriginal))\n",
        "filaInvertida = []\n",
        "filaInvertida = inverter(filaOriginal)\n",
        "print(\"Fila invertida [{0}]\".format(filaInvertida))\n"
      ],
      "execution_count": 1,
      "outputs": [
        {
          "output_type": "stream",
          "text": [
            "Fila original [[100, 200, 300, 400, 500, 600]]\n",
            "Fila invertida [[600, 500, 400, 300, 200, 100]]\n"
          ],
          "name": "stdout"
        }
      ]
    }
  ]
}