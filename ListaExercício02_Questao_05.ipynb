{
  "nbformat": 4,
  "nbformat_minor": 0,
  "metadata": {
    "colab": {
      "name": "ListaExercício02_Questao_05.ipynb",
      "provenance": [],
      "toc_visible": true,
      "authorship_tag": "ABX9TyPZOMaaxvuHwRIhR2TPs4Kt",
      "include_colab_link": true
    },
    "kernelspec": {
      "name": "python3",
      "display_name": "Python 3"
    }
  },
  "cells": [
    {
      "cell_type": "markdown",
      "metadata": {
        "id": "view-in-github",
        "colab_type": "text"
      },
      "source": [
        "<a href=\"https://colab.research.google.com/github/wallinsonsilva/ListaExercicioPython/blob/master/ListaExerc%C3%ADcio02_Questao_05.ipynb\" target=\"_parent\"><img src=\"https://colab.research.google.com/assets/colab-badge.svg\" alt=\"Open In Colab\"/></a>"
      ]
    },
    {
      "cell_type": "markdown",
      "metadata": {
        "id": "3weKmlVsd819",
        "colab_type": "text"
      },
      "source": [
        "## Questão 5\n",
        "Crie um MÉTODO que retira todos os elementos ímpares da fila, mantendo a ordem original dos elementos pares da fila. Os elementos pares devem ser removidos temporariamente para uma pilha e depois retornados para a fila assim que os elementos ímpares forem removidos.\n"
      ]
    },
    {
      "cell_type": "code",
      "metadata": {
        "id": "YDJ558Htd45L",
        "colab_type": "code",
        "colab": {
          "base_uri": "https://localhost:8080/",
          "height": 54
        },
        "outputId": "394ee53f-baf3-4146-9277-4b0863e1f5de"
      },
      "source": [
        "from lista_exercicio_2.Q01b_fila import Fila\n",
        "from lista_exercicio_2.Q01a_pilha import Pilha\n",
        "\n",
        "ehPar = lambda x : True if x % 2 == 0 else False\n",
        "\n",
        "def __coloca_pares_na_pilha(lista:Fila):\n",
        "    pilha = Pilha()\n",
        "    elemento = lista.dequeue()\n",
        "    if lista.isEmpty():\n",
        "        if ehPar(elemento): pilha.push(elemento)\n",
        "        return pilha\n",
        "    temp = __coloca_pares_na_pilha(lista)\n",
        "    if ehPar(elemento): temp.push(elemento)\n",
        "    return temp\n",
        "\n",
        "def remove_elementos_impares(lista:Fila):\n",
        "    pilha = __coloca_pares_na_pilha(lista)\n",
        "    while not pilha.isEmpty(): lista.queue(pilha.pop())\n",
        "    return lista\n",
        "\n",
        "\n",
        "fila = Fila([1,2,3,4,5,6,7,8,9])\n",
        "print(\"Lista Original: \",fila)\n",
        "fila = remove_elementos_impares(fila)\n",
        "print(\"Lista com números impares removidos: \",fila)"
      ],
      "execution_count": 1,
      "outputs": [
        {
          "output_type": "stream",
          "text": [
            "Lista Original:  [1, 2, 3, 4, 5, 6, 7, 8, 9]\n",
            "Lista com números impares removidos:  [2, 4, 6, 8]\n"
          ],
          "name": "stdout"
        }
      ]
    }
  ]
}