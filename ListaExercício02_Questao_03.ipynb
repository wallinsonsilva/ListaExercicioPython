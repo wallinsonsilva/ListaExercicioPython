{
  "nbformat": 4,
  "nbformat_minor": 0,
  "metadata": {
    "colab": {
      "name": "ListaExercício02_Questao_03.ipynb",
      "provenance": [],
      "collapsed_sections": [],
      "authorship_tag": "ABX9TyMKzrr1lCgTetKmeGvxvvP1",
      "include_colab_link": true
    },
    "kernelspec": {
      "name": "python3",
      "display_name": "Python 3"
    }
  },
  "cells": [
    {
      "cell_type": "markdown",
      "metadata": {
        "id": "view-in-github",
        "colab_type": "text"
      },
      "source": [
        "<a href=\"https://colab.research.google.com/github/wallinsonsilva/ListaExercicioPython/blob/master/ListaExerc%C3%ADcio02_Questao_03.ipynb\" target=\"_parent\"><img src=\"https://colab.research.google.com/assets/colab-badge.svg\" alt=\"Open In Colab\"/></a>"
      ]
    },
    {
      "cell_type": "markdown",
      "metadata": {
        "id": "TsJQ-fHGcV3v",
        "colab_type": "text"
      },
      "source": [
        "## Questão 3\n",
        "Palíndromo é a frase ou palavra que mantém o mesmo sentido quando lida de trás pra frente. São exemplos de palíndromo: \"arara\", \"osso\", \"reler\", \"somos\", e “amor à roma”. Podemos também considerar palíndromos algumas combinações de palavras em que desprezamos pontuações, acentos e espaços em branco, como por exemplo: “ralo do dólar”, “até o poeta”, “após a sopa”, etc. Neste contexto:\n",
        "\n",
        "**a)** Use uma Pilha para projetar uma função que recebe uma string como entrada e verifica se ela é ou não um palíndromo."
      ]
    },
    {
      "cell_type": "code",
      "metadata": {
        "id": "bkM_2GP0cJWI",
        "colab_type": "code",
        "colab": {
          "base_uri": "https://localhost:8080/",
          "height": 164
        },
        "outputId": "93bfb78a-4f81-4f9e-dc2d-2a0621787456"
      },
      "source": [
        "from lista_exercicio_2.Q01a_pilha import Pilha\n",
        "import unicodedata\n",
        "\n",
        "def __removerEspacoENormalizar(palavra):\n",
        "    palavra = palavra.replace(\" \", \"\")\n",
        "    palavra = unicodedata.normalize('NFKD', palavra)\n",
        "    palavra = palavra.encode('ASCII', 'ignore')\n",
        "    palavra = palavra.lower()\n",
        "    return  palavra\n",
        "\n",
        "def isPalindromo(palavra):\n",
        "    palavra = __removerEspacoENormalizar(palavra)\n",
        "    pilha = Pilha()\n",
        "\n",
        "    for letra in palavra:\n",
        "        pilha.push(letra)\n",
        "\n",
        "    isPalindromo = True\n",
        "\n",
        "    for letra in palavra:\n",
        "        if(letra != pilha.pop()):\n",
        "            isPalindromo = False\n",
        "            break\n",
        "\n",
        "    return isPalindromo\n",
        "\n",
        "print(isPalindromo(\"após a sopa\"))\n",
        "print(isPalindromo(\"teste\"))\n",
        "print(isPalindromo(\"arara\"))\n",
        "print(isPalindromo(\"ralo do dólar\"))\n",
        "print(isPalindromo(\"oSsO\"))\n",
        "print(isPalindromo(\"osso\"))\n",
        "print(isPalindromo(\"palavra\"))\n",
        "print(isPalindromo(\"até o poeta\"))"
      ],
      "execution_count": 2,
      "outputs": [
        {
          "output_type": "stream",
          "text": [
            "True\n",
            "False\n",
            "True\n",
            "True\n",
            "True\n",
            "True\n",
            "False\n",
            "True\n"
          ],
          "name": "stdout"
        }
      ]
    },
    {
      "cell_type": "markdown",
      "metadata": {
        "id": "inzkncGscfg4",
        "colab_type": "text"
      },
      "source": [
        "## Questão 3:\n",
        "Palíndromo é a frase ou palavra que mantém o mesmo sentido quando lida de trás pra frente. São exemplos de palíndromo: \"arara\", \"osso\", \"reler\", \"somos\", e “amor à roma”. Podemos também considerar palíndromos algumas combinações de palavras em que desprezamos pontuações, acentos e espaços em branco, como por exemplo: “ralo do dólar”, “até o poeta”, “após a sopa”, etc. Neste contexto:\n",
        "\n",
        "**b)** Use um Deque para projetar uma função que recebe uma string como entrada e verifica se ela é ou não um palíndromo.\n"
      ]
    },
    {
      "cell_type": "code",
      "metadata": {
        "id": "ETupG4gyciRZ",
        "colab_type": "code",
        "colab": {
          "base_uri": "https://localhost:8080/",
          "height": 164
        },
        "outputId": "914d8b41-bede-453a-ccbb-20909276b149"
      },
      "source": [
        "from lista_exercicio_2.Q01c_deque import Deque\n",
        "import unicodedata\n",
        "\n",
        "def __removerEspacoENormalizar(palavra):\n",
        "    palavra = palavra.replace(\" \", \"\")\n",
        "    palavra = unicodedata.normalize('NFKD', palavra)\n",
        "    palavra = palavra.encode('ASCII', 'ignore')\n",
        "    palavra = palavra.lower()\n",
        "    return  palavra\n",
        "\n",
        "def isPalindromo(palavra):\n",
        "    palavra = __removerEspacoENormalizar(palavra)\n",
        "    deque = Deque()\n",
        "\n",
        "    for letra in palavra:\n",
        "        deque.pushFront(letra)\n",
        "\n",
        "    isPalindromo = True\n",
        "    cont = 0\n",
        "    tamanho = int(len(palavra)/2)\n",
        "    while(cont<tamanho):\n",
        "        if(deque.popFront() != deque.popBack()):\n",
        "            isPalindromo = False\n",
        "        cont += 1\n",
        "\n",
        "    return isPalindromo\n",
        "\n",
        "\n",
        "print(isPalindromo(\"após a sopa\"))\n",
        "print(isPalindromo(\"teste\"))\n",
        "print(isPalindromo(\"arara\"))\n",
        "print(isPalindromo(\"ralo do dólar\"))\n",
        "print(isPalindromo(\"oSsO\"))\n",
        "print(isPalindromo(\"osso\"))\n",
        "print(isPalindromo(\"palavra\"))\n",
        "print(isPalindromo(\"até o poeta\"))"
      ],
      "execution_count": 3,
      "outputs": [
        {
          "output_type": "stream",
          "text": [
            "True\n",
            "False\n",
            "True\n",
            "True\n",
            "True\n",
            "True\n",
            "False\n",
            "True\n"
          ],
          "name": "stdout"
        }
      ]
    }
  ]
}