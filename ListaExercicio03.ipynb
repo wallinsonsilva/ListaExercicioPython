{
  "nbformat": 4,
  "nbformat_minor": 0,
  "metadata": {
    "colab": {
      "name": "ListaExercicio03.ipynb",
      "provenance": [],
      "authorship_tag": "ABX9TyNxCE4MefogwakyZEsGTpRX",
      "include_colab_link": true
    },
    "kernelspec": {
      "name": "python3",
      "display_name": "Python 3"
    }
  },
  "cells": [
    {
      "cell_type": "markdown",
      "metadata": {
        "id": "view-in-github",
        "colab_type": "text"
      },
      "source": [
        "<a href=\"https://colab.research.google.com/github/wallinsonsilva/ListaExercicioPython/blob/master/ListaExercicio03.ipynb\" target=\"_parent\"><img src=\"https://colab.research.google.com/assets/colab-badge.svg\" alt=\"Open In Colab\"/></a>"
      ]
    },
    {
      "cell_type": "markdown",
      "metadata": {
        "id": "oJ9AUqb0bqJJ",
        "colab_type": "text"
      },
      "source": [
        "**1. Adicione 5 nomes em uma lista e depois verifique se um nome digitado pelo usuário está presente na lista.**"
      ]
    },
    {
      "cell_type": "code",
      "metadata": {
        "id": "-rwJh4vdbJ6y",
        "colab_type": "code",
        "colab": {
          "base_uri": "https://localhost:8080/",
          "height": 54
        },
        "outputId": "d115d92d-36da-4a87-ab03-c8922b22e0cc"
      },
      "source": [
        "def isCadastrado(nomes, nome):\n",
        "    return nomes.__contains__(nome)\n",
        "\n",
        "nomes = [ \"Alice\",\"Miguel\",\"Sophia\",\"Arthur\",\"Helena\",\"Bernardo\",\"Valentina\",\"Heitor\",\"Laura\",\"Davi\"]\n",
        "nome = input(\"Digite um nome: \")\n",
        "print(\"{0} está cadastrado(a)!!!\".format(nome) if isCadastrado(nomes,nome) else \"{0} não está cadastrado(a)!!!\".format(nome))"
      ],
      "execution_count": 1,
      "outputs": [
        {
          "output_type": "stream",
          "text": [
            "Digite um nome: Helena\n",
            "Helena está cadastrado(a)!!!\n"
          ],
          "name": "stdout"
        }
      ]
    },
    {
      "cell_type": "markdown",
      "metadata": {
        "id": "xffaeE5TbzVg",
        "colab_type": "text"
      },
      "source": [
        "**2. Adicione em uma lista 5 números, e verifique através de uma função , e imprima, quantos são ímpares e quantos são pares.**"
      ]
    },
    {
      "cell_type": "code",
      "metadata": {
        "id": "SwvKei6Tb37R",
        "colab_type": "code",
        "colab": {
          "base_uri": "https://localhost:8080/",
          "height": 72
        },
        "outputId": "b7180526-067b-4f5d-aa1e-e11eba575d0b"
      },
      "source": [
        "ehPar = lambda x : True if x % 2 == 0 else False\n",
        "\n",
        "def contaPares(lista):\n",
        "    cont = 0\n",
        "    for item in lista:\n",
        "        if ehPar(item):\n",
        "            cont += 1\n",
        "    return cont\n",
        "\n",
        "def contaImpares(lista):\n",
        "    cont = 0\n",
        "    for item in lista:\n",
        "        if not ehPar(item):\n",
        "            cont += 1\n",
        "    return cont\n",
        "\n",
        "numeros = list(range(5))\n",
        "print(\"Lista de números:\",numeros)\n",
        "print(\"Quantidade de pares\",contaPares(numeros))\n",
        "print(\"Quantidade de impares\",contaImpares(numeros))"
      ],
      "execution_count": 2,
      "outputs": [
        {
          "output_type": "stream",
          "text": [
            "Lista de números: [0, 1, 2, 3, 4]\n",
            "Quantidade de pares 3\n",
            "Quantidade de impares 2\n"
          ],
          "name": "stdout"
        }
      ]
    },
    {
      "cell_type": "markdown",
      "metadata": {
        "id": "o4pZfsv3cXK4",
        "colab_type": "text"
      },
      "source": [
        "**3. Adicione 5 nomes em uma lista e depois verifique se um nome digitado pelo usuário está presente na lista, se estiver apague esse nome.**"
      ]
    },
    {
      "cell_type": "code",
      "metadata": {
        "id": "xt598idpcbJc",
        "colab_type": "code",
        "colab": {
          "base_uri": "https://localhost:8080/",
          "height": 127
        },
        "outputId": "98a47e78-3fd1-4244-b063-7f9b2ced351d"
      },
      "source": [
        "def indice_nome(nomes, nome):\n",
        "    return nomes.index(nome) if nomes.__contains__(nome) else -1\n",
        "\n",
        "def remove_nome(nomes, nome):\n",
        "    indice = indice_nome(nomes,nome)\n",
        "    if indice >= 0:\n",
        "        nomes.__delitem__(indice)\n",
        "        return True\n",
        "    return False\n",
        "\n",
        "\n",
        "nomes = [ \"Alice\",\"Miguel\",\"Sophia\",\"Arthur\",\"Helena\",\"Bernardo\",\"Valentina\",\"Heitor\",\"Laura\",\"Davi\"]\n",
        "print(\"Lista de nomes:\\n\",nomes)\n",
        "nome = input(\"Digite um nome para remover da lista: \")\n",
        "removeu = remove_nome(nomes,nome)\n",
        "print(\"Lista de nomes:\\n\",nomes)\n",
        "print(\"Nome deletado com sucesso!!!\" if removeu else \"O nome informado não foi encontrado!!!\")"
      ],
      "execution_count": 3,
      "outputs": [
        {
          "output_type": "stream",
          "text": [
            "Lista de nomes:\n",
            " ['Alice', 'Miguel', 'Sophia', 'Arthur', 'Helena', 'Bernardo', 'Valentina', 'Heitor', 'Laura', 'Davi']\n",
            "Digite um nome para remover da lista: Valentina\n",
            "Lista de nomes:\n",
            " ['Alice', 'Miguel', 'Sophia', 'Arthur', 'Helena', 'Bernardo', 'Heitor', 'Laura', 'Davi']\n",
            "Nome deletado com sucesso!!!\n"
          ],
          "name": "stdout"
        }
      ]
    },
    {
      "cell_type": "markdown",
      "metadata": {
        "id": "h0PcGXYKdFFM",
        "colab_type": "text"
      },
      "source": [
        "**4. Faça um programa para ler 10 números inteiros e armazenar cada um destes números em uma lista. Após lidos e armazenados os 10 números, calcular a média. Após calculada a média indicar quais dos números lidos estão acima da média.**"
      ]
    },
    {
      "cell_type": "code",
      "metadata": {
        "id": "ZZysI1zKdLwV",
        "colab_type": "code",
        "colab": {
          "base_uri": "https://localhost:8080/",
          "height": 237
        },
        "outputId": "3b512aa7-6b47-4ea6-a3eb-b889544d7967"
      },
      "source": [
        "def calc_media(numeros):\n",
        "    media = 0\n",
        "    for num in numeros:\n",
        "        media = media + num\n",
        "    return media / len(numeros)\n",
        "\n",
        "def maior_q_media(numeros, media):\n",
        "    maiores = []\n",
        "    for num in numeros:\n",
        "        if num > media:\n",
        "            maiores.append(num)\n",
        "    return maiores\n",
        "\n",
        "\n",
        "cont = 1\n",
        "numeros = []\n",
        "while cont <= 10:\n",
        "    numero = int(input(\"Digite o {0}º número: \".format(cont)))\n",
        "    numeros.append(numero)\n",
        "    cont +=1\n",
        "\n",
        "media = calc_media(numeros)\n",
        "print(\"Média:\",media)\n",
        "maiores = maior_q_media(numeros,media)\n",
        "print(\"Maiores que a média:\",maiores)"
      ],
      "execution_count": 4,
      "outputs": [
        {
          "output_type": "stream",
          "text": [
            "Digite o 1º número: 45\n",
            "Digite o 2º número: 54\n",
            "Digite o 3º número: 26\n",
            "Digite o 4º número: 37\n",
            "Digite o 5º número: 85\n",
            "Digite o 6º número: 25\n",
            "Digite o 7º número: 12\n",
            "Digite o 8º número: 38\n",
            "Digite o 9º número: 44\n",
            "Digite o 10º número: 63\n",
            "Média: 42.9\n",
            "Maiores que a média: [45, 54, 85, 44, 63]\n"
          ],
          "name": "stdout"
        }
      ]
    },
    {
      "cell_type": "markdown",
      "metadata": {
        "id": "002m6xLndQiG",
        "colab_type": "text"
      },
      "source": [
        "**5. Digite um número correspondente a um mês do ano (1-12) e imprima o mês. Use uma lista para armazenar o nome dos 12 meses.**"
      ]
    },
    {
      "cell_type": "code",
      "metadata": {
        "id": "z63F7bb9dVnB",
        "colab_type": "code",
        "colab": {
          "base_uri": "https://localhost:8080/",
          "height": 54
        },
        "outputId": "736d2a38-53ed-4a99-c628-3c28ae95f73f"
      },
      "source": [
        "meses = [\"Janeiro\",\"Fevereiro\",\"Março\",\"Abril\",\"Maio\",\"Junho\",\"Julho\",\"Agosto\",\"Setembro\",\"Outubro\",\"Novembro\",\"Dezembro\"]\n",
        "mes = int(input(\"Digite o número do mês: \"))\n",
        "print(\"O mês selecionado foi \",meses[mes-1])"
      ],
      "execution_count": 5,
      "outputs": [
        {
          "output_type": "stream",
          "text": [
            "Digite o número do mês: 7\n",
            "O mês selecionado foi  Julho\n"
          ],
          "name": "stdout"
        }
      ]
    },
    {
      "cell_type": "markdown",
      "metadata": {
        "id": "W9-RGlWudZ_C",
        "colab_type": "text"
      },
      "source": [
        "**6. Crie um programa que armazena 10 números em uma lista. Depois verifique se há algum número 5 na lista, caso haja substitua todos pelo nome CINCO. Imprima a lista.**"
      ]
    },
    {
      "cell_type": "code",
      "metadata": {
        "id": "3aJ5LuFIdexJ",
        "colab_type": "code",
        "colab": {
          "base_uri": "https://localhost:8080/",
          "height": 54
        },
        "outputId": "6697d754-858f-444b-fd0e-2d017f11095d"
      },
      "source": [
        "def troca_por_cinco_mod_01(lista):\n",
        "    if lista.__contains__(5):\n",
        "        indice = lista.index(5)\n",
        "        lista[indice] = \"CINCO\"\n",
        "    return lista\n",
        "\n",
        "def troca_por_cinco_mod_02(lista):\n",
        "    for item in lista:\n",
        "        i = list(str(item))\n",
        "        if i.__contains__('5'):\n",
        "            indice = i.index('5')\n",
        "            i[indice] = \"CINCO\"\n",
        "        indice = lista.index(item)\n",
        "        lista[indice] = \"\".join(i)\n",
        "    return lista\n",
        "\n",
        "\n",
        "numeros = list(range(20))\n",
        "resultado01 = troca_por_cinco_mod_01(numeros)\n",
        "print(resultado01)\n",
        "resultado02 = troca_por_cinco_mod_02(numeros)\n",
        "print(resultado02)"
      ],
      "execution_count": 6,
      "outputs": [
        {
          "output_type": "stream",
          "text": [
            "[0, 1, 2, 3, 4, 'CINCO', 6, 7, 8, 9, 10, 11, 12, 13, 14, 15, 16, 17, 18, 19]\n",
            "['0', '1', '2', '3', '4', 'CINCO', '6', '7', '8', '9', '10', '11', '12', '13', '14', '1CINCO', '16', '17', '18', '19']\n"
          ],
          "name": "stdout"
        }
      ]
    }
  ]
}