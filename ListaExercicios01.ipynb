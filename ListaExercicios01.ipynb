{
  "nbformat": 4,
  "nbformat_minor": 0,
  "metadata": {
    "colab": {
      "name": "ListaExercicios01.ipynb",
      "provenance": [],
      "private_outputs": true,
      "collapsed_sections": [],
      "authorship_tag": "ABX9TyM+pgv3/6jYr1FYCvRW1UnA",
      "include_colab_link": true
    },
    "kernelspec": {
      "name": "python3",
      "display_name": "Python 3"
    }
  },
  "cells": [
    {
      "cell_type": "markdown",
      "metadata": {
        "id": "view-in-github",
        "colab_type": "text"
      },
      "source": [
        "<a href=\"https://colab.research.google.com/github/wallinsonsilva/ListaExercicioPython/blob/master/ListaExercicios01.ipynb\" target=\"_parent\"><img src=\"https://colab.research.google.com/assets/colab-badge.svg\" alt=\"Open In Colab\"/></a>"
      ]
    },
    {
      "cell_type": "markdown",
      "metadata": {
        "id": "--ydX6FIV5-s",
        "colab_type": "text"
      },
      "source": [
        ""
      ]
    },
    {
      "cell_type": "markdown",
      "metadata": {
        "id": "D_YvjluCV7D5",
        "colab_type": "text"
      },
      "source": [
        "### QUESTÃO 1:\n",
        "Desenvolva um gerador de tabuada, capaz de gerar a tabuada de qualquer número\n",
        "inteiro entre 1 a 10. O usuário deve informar de qual numero ele deseja ver a tabuada.\n",
        "A saída deve ser conforme o exemplo abaixo:\n",
        "```\n",
        "Tabuada de 5:\n",
        "5 X 1 = 5\n",
        "5 X 2 = 10\n",
        "5 X 3 =30\n",
        "...\n",
        "5 X 10 = 50\n",
        "```"
      ]
    },
    {
      "cell_type": "code",
      "metadata": {
        "id": "_J0y-2K6W2OR",
        "colab_type": "code",
        "colab": {}
      },
      "source": [
        "entrada = 0\n",
        "\n",
        "while not (int(entrada) > 0) or not (int(entrada) <= 10):\n",
        "    entrada = input(\"Digite um número entre 1 e 10 para gerar a tabuada: \")\n",
        "\n",
        "print(\"Tabuada de \",entrada)\n",
        "entrada = int(entrada)\n",
        "for i in range(1,11):\n",
        "    print(entrada,\" X \",i,\" = \",(entrada*i))"
      ],
      "execution_count": null,
      "outputs": []
    },
    {
      "cell_type": "markdown",
      "metadata": {
        "id": "DnYnb73xYqBH",
        "colab_type": "text"
      },
      "source": [
        "### QUESTÃO 2:\n",
        "Analisando matematicamente as mortes do 7 reinos, o conselheiro Robert descobriu\n",
        "que elas acontecem exponencialmente da seguinte forma: As mortes acontecem\n",
        "exponencialmente de acordo com o número de famílias envolvidas nas batalhas e o\n",
        "tempo. De acordo com o diagrama abaixo. Portanto, escreva um programa no qual a\n",
        "entrada **N** representa o número de família e o resultado seja a seguinte tabela:\n",
        "\n",
        "```\n",
        "1          (1 família, nenhuma morte)\n",
        "2 4        (2 familias, 4 mortes no primeiro ano)\n",
        "3 6 9      (3 familias, 6 mortes no primeiro ano, 9 mortes no segundo ano)\n",
        "4 8 12 16\n",
        "n...\n",
        "obs: o programa deve imprimir somente a tabela, sem os comentários\n",
        "```"
      ]
    },
    {
      "cell_type": "code",
      "metadata": {
        "id": "IxRcwKXbZJAj",
        "colab_type": "code",
        "colab": {}
      },
      "source": [
        "quantFamilia = 0\n",
        "\n",
        "while not quantFamilia > 0:\n",
        "    quantFamilia = int(input(\"Digite a quantidade de familias: \"))\n",
        "\n",
        "for i in range(quantFamilia,(quantFamilia*quantFamilia)+1,quantFamilia):\n",
        "    print(i,\" \", end= \"\")\n"
      ],
      "execution_count": null,
      "outputs": []
    },
    {
      "cell_type": "markdown",
      "metadata": {
        "id": "Jj_fKuAaZ8tr",
        "colab_type": "text"
      },
      "source": [
        "### QUESTÃO 3\n",
        "Faça um programa que leia os dados de 3 alunos (Nome e Media Final), armazenando\n",
        "em um dicionário onde o nome do aluno é a chave e a média do aluno o valor. Uma vez\n",
        "lidos os dados, imprima a lista de alunos em ORDEM ALFABÉTICA com sua respectiva\n",
        "nota final e dizendo se foi aprovado ou reprovado (considere aprovado media final maior\n",
        "ou igual a 5.0).\n",
        "\n",
        "**Regra**:\n",
        "1. Utilize uma função para checar se o aluno foi reprovado ou aprovado\n",
        "```\n",
        "Exemplo de saída:\n",
        "João, nota 8.0, Aprovado\n",
        "Maria, nota: 5.5 , Aprovado\n",
        "José, nota 4.5, Reprovado\n",
        "```\n"
      ]
    },
    {
      "cell_type": "code",
      "metadata": {
        "id": "EVZbBV24a4Q9",
        "colab_type": "code",
        "colab": {}
      },
      "source": [
        "alunos = {}\n",
        "\n",
        "def isCadastrado(nome):\n",
        "    return not alunos.get(nome.lower(), False) == False\n",
        "\n",
        "def isAprovado(media):\n",
        "    return float(media) >= 5.0\n",
        "\n",
        "cont = 1\n",
        "while cont <= 3:\n",
        "    nome = input(\"Digite o nome do aluno [{0}]: \".format(cont))\n",
        "    if not isCadastrado(nome):\n",
        "        media = input(\"Digite a média do aluno [{0}]: \".format(cont))\n",
        "        media = \" {0:2.2f}\".format(float(media))\n",
        "        alunos[nome.lower()] = [nome,media]\n",
        "        cont += 1\n",
        "    else:\n",
        "        print(\"O nome informado já foi cadastrado, insira outro nome!!!\")\n",
        "\n",
        "\n",
        "indices = sorted(alunos)\n",
        "resultado = []\n",
        "\n",
        "for id in indices:\n",
        "    resultado.append(\"\".join(\n",
        "        [alunos[id][0],\n",
        "         \", nota {0}, \".format(alunos[id][1]),\n",
        "         (\"Aprovado\" if isAprovado(alunos[id][1])==True else \"Reprovado\")\n",
        "        ]))\n",
        "\n",
        "\n",
        "print(\"Resultado\".center(40,'-'))\n",
        "for r in resultado:\n",
        "    print(r)"
      ],
      "execution_count": null,
      "outputs": []
    },
    {
      "cell_type": "markdown",
      "metadata": {
        "id": "-qHnMip0dU1_",
        "colab_type": "text"
      },
      "source": [
        "### QUESTÃO 4\n",
        "Um número é dito perfeito se é igual à soma de todos os seus divisores próprios (todos\n",
        "os divisores menos ele). Por exemplo, como os divisores próprios de 6 são 1, 2, 3 e 1 + 2 + 3 = 6, 6 é perfeito. A matemática ainda não sabe se a quantidade de números\n",
        "perfeitos é ou não finita e, por isso, há programas de computador que buscam encontrar\n",
        "números perfeitos grandes. Escreva um programa PYTHON utilizando sub-rotinas\n",
        "(funções), que leia dois valores a e b e encontre os números perfeitos compreendidos\n",
        "dentro desse intervalo.\n",
        "\n",
        "Entrada: 0 e 30\n",
        "\n",
        "Saída esperada: 6 , 28"
      ]
    },
    {
      "cell_type": "code",
      "metadata": {
        "id": "ZPrfN3mSd-3e",
        "colab_type": "code",
        "colab": {}
      },
      "source": [
        "\n",
        "def calculoEuclides(numero):\n",
        "    return 2**(numero-1)*(2**numero - 1)\n",
        "\n",
        "def numeroPerfeitos(lista):\n",
        "    resultado = []\n",
        "    euclides = 0\n",
        "    cont = 2\n",
        "    while euclides <= lista[1]:\n",
        "        euclides = calculoEuclides(cont)\n",
        "        if euclides >= lista[0] and euclides <= lista[1]:\n",
        "            resultado.append(euclides)\n",
        "        cont += 1\n",
        "    return resultado\n",
        "\n",
        "entradas = []\n",
        "while not len(entradas) == 2:\n",
        "    entrada = int(input(\"Digite o {0}º número: \".format(len(entradas)+1)))\n",
        "    if entrada >= 0 :\n",
        "        entradas.append(entrada)\n",
        "\n",
        "entradas = sorted(entradas)\n",
        "\n",
        "resultado = numeroPerfeitos(entradas)\n",
        "\n",
        "print(resultado)"
      ],
      "execution_count": null,
      "outputs": []
    },
    {
      "cell_type": "markdown",
      "metadata": {
        "id": "YKT8wl_RiFn7",
        "colab_type": "text"
      },
      "source": [
        "### QUESTÃO 5\n",
        "\n",
        "Um palíndromo é uma seqüência de caracteres cuja leitura é idêntica se feita da direita\n",
        "para esquerda ou vice−versa. Por exemplo: OSSO e OVO são palíndromos. Em textos\n",
        "mais complexos os espaços e pontuação são ignorados. A frase SUBI NO ONIBUS é o\n",
        "exemplo de uma frase palíndroma onde os espaços foram ignorados. Faça um\n",
        "programa que leia uma seqüência de caracteres, mostre−a e diga se é um palíndromo\n",
        "ou não."
      ]
    },
    {
      "cell_type": "code",
      "metadata": {
        "id": "DfzXRmotiI6-",
        "colab_type": "code",
        "colab": {}
      },
      "source": [
        "import unicodedata\n",
        "\n",
        "def removerEspacoENormalizar(palavra):\n",
        "    palavra = palavra.replace(\" \", \"\")\n",
        "    palavra = unicodedata.normalize('NFKD', palavra)\n",
        "    palavra = palavra.encode('ASCII', 'ignore')\n",
        "    palavra = palavra.lower()\n",
        "    return  palavra\n",
        "\n",
        "def isPalindromo(palavra):\n",
        "    palavra = removerEspacoENormalizar(palavra)\n",
        "    return palavra == palavra[::-1]\n",
        "\n",
        "entrada = input(\"Digite uma expressão: \")\n",
        "\n",
        "ehPalindromo = isPalindromo(entrada)\n",
        "if ehPalindromo:\n",
        "    print(\"A expressão \\\"{0}\\\" é um palindromo!!!\".format(entrada))\n",
        "else:\n",
        "    print(\"A expressão \\\"{0}\\\" não é um palindromo!!!\".format(entrada))"
      ],
      "execution_count": null,
      "outputs": []
    }
  ]
}